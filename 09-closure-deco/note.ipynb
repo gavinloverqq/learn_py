{
 "cells": [
  {
   "cell_type": "markdown",
   "id": "5a0f4ba1",
   "metadata": {},
   "source": [
    "How Python evaluates decorator syntax\n",
    "\n",
    "How Python decides whether a variable is local\n",
    "\n",
    "Why closures exist and how they work\n",
    "\n",
    "What problem is solved by nonlocal"
   ]
  },
  {
   "cell_type": "code",
   "execution_count": 1,
   "id": "131cb36a",
   "metadata": {},
   "outputs": [
    {
     "name": "stdout",
     "output_type": "stream",
     "text": [
      "run inner\n"
     ]
    }
   ],
   "source": [
    "def deco(func):\n",
    "    def inner():\n",
    "        print(\"run inner\")\n",
    "    return inner\n",
    "\n",
    "@deco\n",
    "def target():\n",
    "    print(\"run target\")\n",
    "\n",
    "target()"
   ]
  },
  {
   "cell_type": "code",
   "execution_count": null,
   "id": "418bf596",
   "metadata": {},
   "outputs": [
    {
     "data": {
      "text/plain": [
       "<function __main__.deco.<locals>.inner()>"
      ]
     },
     "execution_count": 2,
     "metadata": {},
     "output_type": "execute_result"
    }
   ],
   "source": [
    "# decorator is applied to the function target, so when we call target(), it will actually call the inner function returned by deco, not the original\n",
    "target"
   ]
  },
  {
   "cell_type": "markdown",
   "id": "84a16c72",
   "metadata": {},
   "source": [
    "When Python Executes Decorators\n",
    "\n",
    "A key feature of decorators is that they run right after the decorated function is defined. same as import module"
   ]
  },
  {
   "cell_type": "code",
   "execution_count": 4,
   "id": "2be15700",
   "metadata": {},
   "outputs": [
    {
     "name": "stdout",
     "output_type": "stream",
     "text": [
      "registering f1\n",
      "registering f2\n",
      "running\n",
      "registry: [<function f1 at 0x000001A8EA0B1E40>, <function f2 at 0x000001A8EA0B20C0>]\n",
      "f1\n",
      "f2\n",
      "f3\n"
     ]
    }
   ],
   "source": [
    "registry = []\n",
    "\n",
    "def register(func):\n",
    "    print(\"registering\", func.__name__)\n",
    "    registry.append(func)\n",
    "    return func\n",
    "\n",
    "@register\n",
    "def f1():\n",
    "    print(\"f1\")\n",
    "\n",
    "@register\n",
    "def f2():\n",
    "    print(\"f2\")\n",
    "\n",
    "def f3():\n",
    "    print(\"f3\")\n",
    "    \n",
    "def run():\n",
    "    print(\"running\")\n",
    "    print(\"registry:\", registry)\n",
    "    f1()\n",
    "    f2()\n",
    "    f3()\n",
    "\n",
    "run()\n"
   ]
  },
  {
   "cell_type": "markdown",
   "id": "27db8bda",
   "metadata": {},
   "source": [
    "Variable Scope Rules"
   ]
  },
  {
   "cell_type": "code",
   "execution_count": 5,
   "id": "7b337447",
   "metadata": {},
   "outputs": [
    {
     "name": "stdout",
     "output_type": "stream",
     "text": [
      "f1 3\n"
     ]
    },
    {
     "ename": "NameError",
     "evalue": "name 'b' is not defined",
     "output_type": "error",
     "traceback": [
      "\u001b[31m---------------------------------------------------------------------------\u001b[39m",
      "\u001b[31mNameError\u001b[39m                                 Traceback (most recent call last)",
      "\u001b[36mCell\u001b[39m\u001b[36m \u001b[39m\u001b[32mIn[5]\u001b[39m\u001b[32m, line 4\u001b[39m\n\u001b[32m      2\u001b[39m     \u001b[38;5;28mprint\u001b[39m(\u001b[33m\"\u001b[39m\u001b[33mf1\u001b[39m\u001b[33m\"\u001b[39m, a)\n\u001b[32m      3\u001b[39m     \u001b[38;5;28mprint\u001b[39m(\u001b[33m\"\u001b[39m\u001b[33mf1\u001b[39m\u001b[33m\"\u001b[39m, b)\n\u001b[32m----> \u001b[39m\u001b[32m4\u001b[39m \u001b[43mf1\u001b[49m\u001b[43m(\u001b[49m\u001b[32;43m3\u001b[39;49m\u001b[43m)\u001b[49m\n",
      "\u001b[36mCell\u001b[39m\u001b[36m \u001b[39m\u001b[32mIn[5]\u001b[39m\u001b[32m, line 3\u001b[39m, in \u001b[36mf1\u001b[39m\u001b[34m(a)\u001b[39m\n\u001b[32m      1\u001b[39m \u001b[38;5;28;01mdef\u001b[39;00m\u001b[38;5;250m \u001b[39m\u001b[34mf1\u001b[39m(a):\n\u001b[32m      2\u001b[39m     \u001b[38;5;28mprint\u001b[39m(\u001b[33m\"\u001b[39m\u001b[33mf1\u001b[39m\u001b[33m\"\u001b[39m, a)\n\u001b[32m----> \u001b[39m\u001b[32m3\u001b[39m     \u001b[38;5;28mprint\u001b[39m(\u001b[33m\"\u001b[39m\u001b[33mf1\u001b[39m\u001b[33m\"\u001b[39m, \u001b[43mb\u001b[49m)\n",
      "\u001b[31mNameError\u001b[39m: name 'b' is not defined"
     ]
    }
   ],
   "source": [
    "def f1(a):\n",
    "    print(\"f1\", a)\n",
    "    print(\"f1\", b)\n",
    "f1(3)"
   ]
  },
  {
   "cell_type": "code",
   "execution_count": 6,
   "id": "3e990021",
   "metadata": {},
   "outputs": [
    {
     "name": "stdout",
     "output_type": "stream",
     "text": [
      "f1 3\n",
      "f1 6\n"
     ]
    }
   ],
   "source": [
    "b=6\n",
    "f1(3)"
   ]
  },
  {
   "cell_type": "code",
   "execution_count": null,
   "id": "11c99848",
   "metadata": {},
   "outputs": [
    {
     "name": "stdout",
     "output_type": "stream",
     "text": [
      "f2 3\n"
     ]
    },
    {
     "ename": "UnboundLocalError",
     "evalue": "cannot access local variable 'b' where it is not associated with a value",
     "output_type": "error",
     "traceback": [
      "\u001b[31m---------------------------------------------------------------------------\u001b[39m",
      "\u001b[31mUnboundLocalError\u001b[39m                         Traceback (most recent call last)",
      "\u001b[36mCell\u001b[39m\u001b[36m \u001b[39m\u001b[32mIn[7]\u001b[39m\u001b[32m, line 6\u001b[39m\n\u001b[32m      4\u001b[39m     \u001b[38;5;28mprint\u001b[39m(\u001b[33m\"\u001b[39m\u001b[33mf2\u001b[39m\u001b[33m\"\u001b[39m, b)\n\u001b[32m      5\u001b[39m     b = \u001b[32m9\u001b[39m\n\u001b[32m----> \u001b[39m\u001b[32m6\u001b[39m \u001b[43mf2\u001b[49m\u001b[43m(\u001b[49m\u001b[32;43m3\u001b[39;49m\u001b[43m)\u001b[49m\n",
      "\u001b[36mCell\u001b[39m\u001b[36m \u001b[39m\u001b[32mIn[7]\u001b[39m\u001b[32m, line 4\u001b[39m, in \u001b[36mf2\u001b[39m\u001b[34m(a)\u001b[39m\n\u001b[32m      2\u001b[39m \u001b[38;5;28;01mdef\u001b[39;00m\u001b[38;5;250m \u001b[39m\u001b[34mf2\u001b[39m(a):\n\u001b[32m      3\u001b[39m     \u001b[38;5;28mprint\u001b[39m(\u001b[33m\"\u001b[39m\u001b[33mf2\u001b[39m\u001b[33m\"\u001b[39m, a)\n\u001b[32m----> \u001b[39m\u001b[32m4\u001b[39m     \u001b[38;5;28mprint\u001b[39m(\u001b[33m\"\u001b[39m\u001b[33mf2\u001b[39m\u001b[33m\"\u001b[39m, \u001b[43mb\u001b[49m)\n\u001b[32m      5\u001b[39m     b = \u001b[32m9\u001b[39m\n",
      "\u001b[31mUnboundLocalError\u001b[39m: cannot access local variable 'b' where it is not associated with a value"
     ]
    }
   ],
   "source": [
    "b=6\n",
    "def f2(a):\n",
    "    print(\"f2\", a)\n",
    "    print(\"f2\", b)\n",
    "    b = 9 #cannot access local variable 'b' where it is not associated with a value\n",
    "f2(3)"
   ]
  },
  {
   "cell_type": "code",
   "execution_count": 9,
   "id": "15b129e1",
   "metadata": {},
   "outputs": [
    {
     "name": "stdout",
     "output_type": "stream",
     "text": [
      "f3 3\n",
      "f3 6\n"
     ]
    },
    {
     "data": {
      "text/plain": [
       "9"
      ]
     },
     "execution_count": 9,
     "metadata": {},
     "output_type": "execute_result"
    }
   ],
   "source": [
    "b=6\n",
    "def f3(a):\n",
    "    global b\n",
    "    print(\"f3\", a)\n",
    "    print(\"f3\", b)\n",
    "    b = 9\n",
    "f3(3)\n",
    "b"
   ]
  },
  {
   "cell_type": "markdown",
   "id": "3bc004b8",
   "metadata": {},
   "source": [
    "The module global scope\n",
    "Made of names assigned to values outside of any class or function block.\n",
    "\n",
    "The f3 function local scope\n",
    "Made of names assigned to values as parameters, or directly in the body of the function."
   ]
  },
  {
   "cell_type": "code",
   "execution_count": null,
   "id": "5a4fbdca",
   "metadata": {},
   "outputs": [
    {
     "name": "stdout",
     "output_type": "stream",
     "text": [
      "  1           0 RESUME                   0\n",
      "\n",
      "  2           2 LOAD_GLOBAL              1 (NULL + print)\n",
      "             12 LOAD_CONST               1 ('f1')\n",
      "             14 LOAD_FAST                0 (a)\n",
      "             16 CALL                     2\n",
      "             24 POP_TOP\n",
      "\n",
      "  3          26 LOAD_GLOBAL              1 (NULL + print)\n",
      "             36 LOAD_CONST               1 ('f1')\n",
      "             38 LOAD_GLOBAL              2 (b)\n",
      "             48 CALL                     2\n",
      "             56 POP_TOP\n",
      "             58 RETURN_CONST             0 (None)\n"
     ]
    }
   ],
   "source": [
    "from dis import dis\n",
    "dis(f1)\n",
    "# 38 -> global b"
   ]
  },
  {
   "cell_type": "code",
   "execution_count": null,
   "id": "414fe962",
   "metadata": {},
   "outputs": [
    {
     "name": "stdout",
     "output_type": "stream",
     "text": [
      "  2           0 RESUME                   0\n",
      "\n",
      "  3           2 LOAD_GLOBAL              1 (NULL + print)\n",
      "             12 LOAD_CONST               1 ('f2')\n",
      "             14 LOAD_FAST                0 (a)\n",
      "             16 CALL                     2\n",
      "             24 POP_TOP\n",
      "\n",
      "  4          26 LOAD_GLOBAL              1 (NULL + print)\n",
      "             36 LOAD_CONST               1 ('f2')\n",
      "             38 LOAD_FAST_CHECK          1 (b)\n",
      "             40 CALL                     2\n",
      "             48 POP_TOP\n",
      "\n",
      "  5          50 LOAD_CONST               2 (9)\n",
      "             52 STORE_FAST               1 (b)\n",
      "             54 RETURN_CONST             0 (None)\n"
     ]
    }
   ],
   "source": [
    "dis(f2)\n",
    "# 38 -> local b"
   ]
  },
  {
   "cell_type": "markdown",
   "id": "9a3862e6",
   "metadata": {},
   "source": [
    "Actually, a closure is a function—let’s call it f—with an extended scope that encompasses variables referenced in the body of f that are not global variables or local variables of f. Such variables must come from the local scope of an outer function that encompasses f."
   ]
  },
  {
   "cell_type": "markdown",
   "id": "5c308a61",
   "metadata": {},
   "source": [
    "闭包：内部函数使用外部函数的free variables"
   ]
  },
  {
   "cell_type": "code",
   "execution_count": 12,
   "id": "5b391aa1",
   "metadata": {},
   "outputs": [
    {
     "name": "stdout",
     "output_type": "stream",
     "text": [
      "10.0\n",
      "15.0\n",
      "20.0\n"
     ]
    }
   ],
   "source": [
    "class Average:\n",
    "    def __init__(self):\n",
    "        self.series = []\n",
    "    \n",
    "    def __call__(self, value):\n",
    "        self.series.append(value)\n",
    "        return sum(self.series) / len(self.series)\n",
    "    \n",
    "avg = Average()\n",
    "print(avg(10))\n",
    "print(avg(20))\n",
    "print(avg(30))"
   ]
  },
  {
   "cell_type": "code",
   "execution_count": 13,
   "id": "5cccb7f3",
   "metadata": {},
   "outputs": [
    {
     "name": "stdout",
     "output_type": "stream",
     "text": [
      "10.0\n",
      "15.0\n",
      "20.0\n"
     ]
    }
   ],
   "source": [
    "def avg():\n",
    "    series = []\n",
    "    def inner(value):\n",
    "        series.append(value)\n",
    "        return sum(series) / len(series)\n",
    "    return inner\n",
    "\n",
    "avg = avg()\n",
    "print(avg(10))\n",
    "print(avg(20))\n",
    "print(avg(30))"
   ]
  },
  {
   "cell_type": "code",
   "execution_count": 14,
   "id": "159add83",
   "metadata": {},
   "outputs": [
    {
     "data": {
      "text/plain": [
       "('value',)"
      ]
     },
     "execution_count": 14,
     "metadata": {},
     "output_type": "execute_result"
    }
   ],
   "source": [
    "avg.__code__.co_varnames"
   ]
  },
  {
   "cell_type": "markdown",
   "id": "cb59cb56",
   "metadata": {},
   "source": [
    "free variables:"
   ]
  },
  {
   "cell_type": "code",
   "execution_count": 15,
   "id": "c9d98bd5",
   "metadata": {},
   "outputs": [
    {
     "data": {
      "text/plain": [
       "('series',)"
      ]
     },
     "execution_count": 15,
     "metadata": {},
     "output_type": "execute_result"
    }
   ],
   "source": [
    "avg.__code__.co_freevars"
   ]
  },
  {
   "cell_type": "code",
   "execution_count": 16,
   "id": "9edc8bca",
   "metadata": {},
   "outputs": [
    {
     "data": {
      "text/plain": [
       "(<cell at 0x000001A8EA123EB0: list object at 0x000001A8EA739DC0>,)"
      ]
     },
     "execution_count": 16,
     "metadata": {},
     "output_type": "execute_result"
    }
   ],
   "source": [
    "avg.__closure__"
   ]
  },
  {
   "cell_type": "code",
   "execution_count": 17,
   "id": "6ba9b1ea",
   "metadata": {},
   "outputs": [
    {
     "data": {
      "text/plain": [
       "[10, 20, 30]"
      ]
     },
     "execution_count": 17,
     "metadata": {},
     "output_type": "execute_result"
    }
   ],
   "source": [
    "avg.__closure__[0].cell_contents"
   ]
  },
  {
   "cell_type": "markdown",
   "id": "3148b132",
   "metadata": {},
   "source": [
    "free variable 存在closure里，closure和avg绑定"
   ]
  },
  {
   "cell_type": "markdown",
   "id": "19a96973",
   "metadata": {},
   "source": [
    "The value for series is kept in the __closure__ attribute of the returned function avg. Each item in avg.__closure__ corresponds to a name in avg.​__code__​.co_freevars. These items are cells, and they have an attribute called cell_contents where the actual value can be found. Example 9-11 shows these attributes."
   ]
  },
  {
   "cell_type": "markdown",
   "id": "b0f2729d",
   "metadata": {},
   "source": [
    "To summarize: a closure is a function that retains the bindings of the free variables that exist when the function is defined, so that they can be used later when the function is invoked and the defining scope is no longer available."
   ]
  },
  {
   "cell_type": "code",
   "execution_count": 18,
   "id": "f8b62821",
   "metadata": {},
   "outputs": [],
   "source": [
    "def make_averager():\n",
    "    count = 0\n",
    "    total = 0\n",
    "\n",
    "    def averager(new_value):\n",
    "        count += 1\n",
    "        total += new_value\n",
    "        return total / count\n",
    "\n",
    "    return averager"
   ]
  },
  {
   "cell_type": "code",
   "execution_count": 19,
   "id": "449e745b",
   "metadata": {},
   "outputs": [
    {
     "ename": "UnboundLocalError",
     "evalue": "cannot access local variable 'count' where it is not associated with a value",
     "output_type": "error",
     "traceback": [
      "\u001b[31m---------------------------------------------------------------------------\u001b[39m",
      "\u001b[31mUnboundLocalError\u001b[39m                         Traceback (most recent call last)",
      "\u001b[36mCell\u001b[39m\u001b[36m \u001b[39m\u001b[32mIn[19]\u001b[39m\u001b[32m, line 2\u001b[39m\n\u001b[32m      1\u001b[39m avg = make_averager()\n\u001b[32m----> \u001b[39m\u001b[32m2\u001b[39m \u001b[43mavg\u001b[49m\u001b[43m(\u001b[49m\u001b[32;43m10\u001b[39;49m\u001b[43m)\u001b[49m\n",
      "\u001b[36mCell\u001b[39m\u001b[36m \u001b[39m\u001b[32mIn[18]\u001b[39m\u001b[32m, line 6\u001b[39m, in \u001b[36mmake_averager.<locals>.averager\u001b[39m\u001b[34m(new_value)\u001b[39m\n\u001b[32m      5\u001b[39m \u001b[38;5;28;01mdef\u001b[39;00m\u001b[38;5;250m \u001b[39m\u001b[34maverager\u001b[39m(new_value):\n\u001b[32m----> \u001b[39m\u001b[32m6\u001b[39m     \u001b[43mcount\u001b[49m += \u001b[32m1\u001b[39m\n\u001b[32m      7\u001b[39m     total += new_value\n\u001b[32m      8\u001b[39m     \u001b[38;5;28;01mreturn\u001b[39;00m total / count\n",
      "\u001b[31mUnboundLocalError\u001b[39m: cannot access local variable 'count' where it is not associated with a value"
     ]
    }
   ],
   "source": [
    "avg = make_averager()\n",
    "avg(10)"
   ]
  },
  {
   "cell_type": "code",
   "execution_count": 20,
   "id": "1a407ec7",
   "metadata": {},
   "outputs": [],
   "source": [
    "def make_averager():\n",
    "    count = 0\n",
    "    total = 0\n",
    "\n",
    "    def averager(new_value):\n",
    "        nonlocal count, total  # use nonlocal to modify the outer scope variables\n",
    "        count += 1\n",
    "        total += new_value\n",
    "        return total / count\n",
    "\n",
    "    return averager"
   ]
  },
  {
   "cell_type": "code",
   "execution_count": 21,
   "id": "fc5ae79a",
   "metadata": {},
   "outputs": [
    {
     "data": {
      "text/plain": [
       "10.0"
      ]
     },
     "execution_count": 21,
     "metadata": {},
     "output_type": "execute_result"
    }
   ],
   "source": [
    "avg = make_averager()\n",
    "avg(10)"
   ]
  },
  {
   "cell_type": "markdown",
   "id": "8953160c",
   "metadata": {},
   "source": [
    "Variable Lookup Logic\n",
    "When a function is defined, the Python bytecode compiler determines how to fetch a variable x that appears in it, based on these rules:3\n",
    "\n",
    "If there is a global x declaration, x comes from and is assigned to the x global variable module.4\n",
    "\n",
    "If there is a nonlocal x declaration, x comes from and is assigned to the x local variable of the nearest surrounding function where x is defined.\n",
    "\n",
    "If x is a parameter or is assigned a value in the function body, then x is the local variable.\n",
    "\n",
    "If x is referenced but is not assigned and is not a parameter:\n",
    "\n",
    "x will be looked up in the local scopes of the surrounding function bodies (nonlocal scopes).\n",
    "\n",
    "If not found in surrounding scopes, it will be read from the module global scope.\n",
    "\n",
    "If not found in the global scope, it will be read from __builtins__.__dict__."
   ]
  },
  {
   "cell_type": "markdown",
   "id": "7a096e1f",
   "metadata": {},
   "source": [
    "variable 查找过程： global -> nonlocal -> parameter -> local scope"
   ]
  },
  {
   "cell_type": "markdown",
   "id": "bb03ebf8",
   "metadata": {},
   "source": [
    "Implementing a Simple Decorator"
   ]
  },
  {
   "cell_type": "code",
   "execution_count": 22,
   "id": "94c2ee32",
   "metadata": {},
   "outputs": [],
   "source": [
    "import time\n",
    "\n",
    "\n",
    "def clock(func):\n",
    "    def clocked(*args):  \n",
    "        t0 = time.perf_counter()\n",
    "        result = func(*args)  \n",
    "        elapsed = time.perf_counter() - t0\n",
    "        name = func.__name__\n",
    "        arg_str = ', '.join(repr(arg) for arg in args)\n",
    "        print(f'[{elapsed:0.8f}s] {name}({arg_str}) -> {result!r}')\n",
    "        return result\n",
    "    return clocked  "
   ]
  },
  {
   "cell_type": "code",
   "execution_count": 23,
   "id": "e1d37397",
   "metadata": {},
   "outputs": [
    {
     "name": "stdout",
     "output_type": "stream",
     "text": [
      "**************************************** Calling snooze(.123)\n",
      "[0.12322190s] snooze(0.123) -> None\n",
      "**************************************** Calling factorial(6)\n",
      "[0.00000040s] factorial(1) -> 1\n",
      "[0.00001240s] factorial(2) -> 2\n",
      "[0.00001960s] factorial(3) -> 6\n",
      "[0.00002660s] factorial(4) -> 24\n",
      "[0.00003360s] factorial(5) -> 120\n",
      "[0.00004120s] factorial(6) -> 720\n",
      "6! = 720\n"
     ]
    }
   ],
   "source": [
    "import time\n",
    "\n",
    "@clock\n",
    "def snooze(seconds):\n",
    "    time.sleep(seconds)\n",
    "\n",
    "@clock\n",
    "def factorial(n):\n",
    "    return 1 if n < 2 else n*factorial(n-1)\n",
    "\n",
    "print('*' * 40, 'Calling snooze(.123)')\n",
    "snooze(.123)\n",
    "print('*' * 40, 'Calling factorial(6)')\n",
    "print('6! =', factorial(6))"
   ]
  },
  {
   "cell_type": "code",
   "execution_count": 24,
   "id": "9a3f4f9c",
   "metadata": {},
   "outputs": [
    {
     "name": "stdout",
     "output_type": "stream",
     "text": [
      "run inner\n",
      "3\n"
     ]
    }
   ],
   "source": [
    "def test_deco(func):\n",
    "    def inner(*args):\n",
    "        print(\"run inner\")\n",
    "        return func(*args)\n",
    "    return inner\n",
    "\n",
    "@test_deco\n",
    "def test_add(a, b):\n",
    "    return a + b\n",
    "\n",
    "print(test_add(1, 2))"
   ]
  },
  {
   "cell_type": "code",
   "execution_count": 25,
   "id": "7a5982ef",
   "metadata": {},
   "outputs": [
    {
     "data": {
      "text/plain": [
       "'inner'"
      ]
     },
     "execution_count": 25,
     "metadata": {},
     "output_type": "execute_result"
    }
   ],
   "source": [
    "test_add.__name__"
   ]
  },
  {
   "cell_type": "code",
   "execution_count": null,
   "id": "d376bb5e",
   "metadata": {},
   "outputs": [
    {
     "name": "stdout",
     "output_type": "stream",
     "text": [
      "run inner\n",
      "3\n"
     ]
    }
   ],
   "source": [
    "import functools\n",
    "\n",
    "\n",
    "def test_deco(func):\n",
    "    @functools.wraps(func)  # use functools.wraps to preserve the original function's metadata\n",
    "    def inner(*args):\n",
    "        print(\"run inner\")\n",
    "        return func(*args)\n",
    "    return inner\n",
    "\n",
    "@test_deco\n",
    "def test_add(a, b):\n",
    "    return a + b\n",
    "\n",
    "print(test_add(1, 2))"
   ]
  },
  {
   "cell_type": "code",
   "execution_count": 27,
   "id": "ea3b94a9",
   "metadata": {},
   "outputs": [
    {
     "data": {
      "text/plain": [
       "'test_add'"
      ]
     },
     "execution_count": 27,
     "metadata": {},
     "output_type": "execute_result"
    }
   ],
   "source": [
    "test_add.__name__"
   ]
  },
  {
   "cell_type": "markdown",
   "id": "c2265615",
   "metadata": {},
   "source": [
    "@functools.wraps(func) # copy the metadata from func to clocked"
   ]
  },
  {
   "cell_type": "code",
   "execution_count": 28,
   "id": "790f8834",
   "metadata": {},
   "outputs": [],
   "source": [
    "import time\n",
    "import functools\n",
    "\n",
    "\n",
    "def clock(func):\n",
    "    @functools.wraps(func) # copy the metadata from func to clocked\n",
    "    def clocked(*args, **kwargs):\n",
    "        t0 = time.perf_counter()\n",
    "        result = func(*args, **kwargs)\n",
    "        elapsed = time.perf_counter() - t0\n",
    "        name = func.__name__\n",
    "        arg_lst = [repr(arg) for arg in args]\n",
    "        arg_lst.extend(f'{k}={v!r}' for k, v in kwargs.items())\n",
    "        arg_str = ', '.join(arg_lst)\n",
    "        print(f'[{elapsed:0.8f}s] {name}({arg_str}) -> {result!r}')\n",
    "        return result\n",
    "    return clocked"
   ]
  }
 ],
 "metadata": {
  "kernelspec": {
   "display_name": ".venv",
   "language": "python",
   "name": "python3"
  },
  "language_info": {
   "codemirror_mode": {
    "name": "ipython",
    "version": 3
   },
   "file_extension": ".py",
   "mimetype": "text/x-python",
   "name": "python",
   "nbconvert_exporter": "python",
   "pygments_lexer": "ipython3",
   "version": "3.12.10"
  }
 },
 "nbformat": 4,
 "nbformat_minor": 5
}
