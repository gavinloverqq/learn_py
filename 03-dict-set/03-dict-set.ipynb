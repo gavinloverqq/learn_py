{
 "cells": [
  {
   "cell_type": "markdown",
   "metadata": {},
   "source": [
    "dic comprehension"
   ]
  },
  {
   "cell_type": "code",
   "execution_count": 4,
   "metadata": {},
   "outputs": [
    {
     "data": {
      "text/plain": [
       "{'China': 86,\n",
       " 'India': 91,\n",
       " 'United States': 1,\n",
       " 'Indonesia': 62,\n",
       " 'Brazil': 55,\n",
       " 'Pakistan': 92,\n",
       " 'Bangladesh': 880,\n",
       " 'Nigeria': 234,\n",
       " 'Russia': 7,\n",
       " 'Japan': 81}"
      ]
     },
     "execution_count": 4,
     "metadata": {},
     "output_type": "execute_result"
    }
   ],
   "source": [
    "DIAL_CODES = [\n",
    "        (86, 'China'),\n",
    "        (91, 'India'),\n",
    "        (1, 'United States'),\n",
    "        (62, 'Indonesia'),\n",
    "        (55, 'Brazil'),\n",
    "        (92, 'Pakistan'),\n",
    "        (880, 'Bangladesh'),\n",
    "        (234, 'Nigeria'),\n",
    "        (7, 'Russia'),\n",
    "        (81, 'Japan'),\n",
    "    ]\n",
    "dict_dial_codes = {country: code for code, country in DIAL_CODES}\n",
    "\n",
    "dict_dial_codes"
   ]
  },
  {
   "cell_type": "code",
   "execution_count": 5,
   "metadata": {},
   "outputs": [
    {
     "data": {
      "text/plain": [
       "{'China': 86,\n",
       " 'India': 91,\n",
       " 'Indonesia': 62,\n",
       " 'Brazil': 55,\n",
       " 'Pakistan': 92,\n",
       " 'Bangladesh': 880,\n",
       " 'Nigeria': 234,\n",
       " 'Japan': 81}"
      ]
     },
     "execution_count": 5,
     "metadata": {},
     "output_type": "execute_result"
    }
   ],
   "source": [
    "{country: code for code, country in DIAL_CODES if code > 50}"
   ]
  },
  {
   "cell_type": "markdown",
   "metadata": {},
   "source": [
    "unpacking mappings"
   ]
  },
  {
   "cell_type": "code",
   "execution_count": 6,
   "metadata": {},
   "outputs": [
    {
     "name": "stdout",
     "output_type": "stream",
     "text": [
      "{'a': 1, 'b': 2, 'c': 3, 'x': 10, 'China': 86, 'India': 91, 'United States': 1, 'Indonesia': 62, 'Brazil': 55, 'Pakistan': 92, 'Bangladesh': 880, 'Nigeria': 234, 'Russia': 7, 'Japan': 81}\n"
     ]
    }
   ],
   "source": [
    "def dump(**kwargs):\n",
    "    print(kwargs)\n",
    "dump(a=1, b=2, c=3, **{'x':10}, **dict_dial_codes)"
   ]
  },
  {
   "cell_type": "code",
   "execution_count": null,
   "metadata": {},
   "outputs": [
    {
     "ename": "TypeError",
     "evalue": "keywords must be strings",
     "output_type": "error",
     "traceback": [
      "\u001b[31m---------------------------------------------------------------------------\u001b[39m",
      "\u001b[31mTypeError\u001b[39m                                 Traceback (most recent call last)",
      "\u001b[36mCell\u001b[39m\u001b[36m \u001b[39m\u001b[32mIn[7]\u001b[39m\u001b[32m, line 1\u001b[39m\n\u001b[32m----> \u001b[39m\u001b[32m1\u001b[39m \u001b[43mdump\u001b[49m\u001b[43m(\u001b[49m\u001b[43m*\u001b[49m\u001b[43m*\u001b[49m\u001b[43m{\u001b[49m\u001b[32;43m1\u001b[39;49m\u001b[43m:\u001b[49m\u001b[43m \u001b[49m\u001b[32;43m20\u001b[39;49m\u001b[43m}\u001b[49m\u001b[43m)\u001b[49m\n",
      "\u001b[31mTypeError\u001b[39m: keywords must be strings"
     ]
    }
   ],
   "source": [
    "# dump(**{1: 20}) keuwrds must be strings"
   ]
  },
  {
   "cell_type": "markdown",
   "metadata": {},
   "source": [
    "merge dict"
   ]
  },
  {
   "cell_type": "code",
   "execution_count": 8,
   "metadata": {},
   "outputs": [
    {
     "data": {
      "text/plain": [
       "{'a': 2, 'b': 2, 'c': 3, 'd': 4}"
      ]
     },
     "execution_count": 8,
     "metadata": {},
     "output_type": "execute_result"
    }
   ],
   "source": [
    "d1 = {'a': 1, 'b': 2}\n",
    "d2 = {'a': 2,'c': 3, 'd': 4}\n",
    "d3 = {**d1, **d2}\n",
    "d3"
   ]
  },
  {
   "cell_type": "code",
   "execution_count": 9,
   "metadata": {},
   "outputs": [
    {
     "data": {
      "text/plain": [
       "{'a': 2, 'b': 2, 'c': 3, 'd': 4}"
      ]
     },
     "execution_count": 9,
     "metadata": {},
     "output_type": "execute_result"
    }
   ],
   "source": [
    "d1 | d2"
   ]
  },
  {
   "cell_type": "markdown",
   "metadata": {},
   "source": [
    "pattern matching"
   ]
  },
  {
   "cell_type": "code",
   "execution_count": 12,
   "metadata": {},
   "outputs": [],
   "source": [
    "def get_creators(record: dict) -> list:\n",
    "    match record:\n",
    "        case {'type': 'book', 'api': 2, 'authors': [*authors]}:\n",
    "            return authors\n",
    "        case {'type': 'book', 'api': 1, 'author': author}:\n",
    "            return [author]\n",
    "        case {'type': 'book', 'api': 1}:\n",
    "            raise ValueError('Invalid API version')\n",
    "        case {'type': 'movie', 'director': name}:\n",
    "            return [name]\n",
    "        case _:\n",
    "            raise ValueError('Invalid record type')\n",
    "        "
   ]
  },
  {
   "cell_type": "code",
   "execution_count": 13,
   "metadata": {},
   "outputs": [
    {
     "data": {
      "text/plain": [
       "['Douglas Hofstadter']"
      ]
     },
     "execution_count": 13,
     "metadata": {},
     "output_type": "execute_result"
    }
   ],
   "source": [
    "b1 = dict(api=1, author='Douglas Hofstadter', type='book', title='Gödel, Escher, Bach')\n",
    "get_creators(b1)"
   ]
  },
  {
   "cell_type": "code",
   "execution_count": 14,
   "metadata": {},
   "outputs": [
    {
     "data": {
      "text/plain": [
       "['Martelli', 'Ravenscroft', 'Holden']"
      ]
     },
     "execution_count": 14,
     "metadata": {},
     "output_type": "execute_result"
    }
   ],
   "source": [
    "from collections import OrderedDict\n",
    "b2 = OrderedDict(api=2, type='book',\n",
    "         title='Python in a Nutshell',\n",
    "         authors='Martelli Ravenscroft Holden'.split())\n",
    "get_creators(b2)"
   ]
  },
  {
   "cell_type": "code",
   "execution_count": 15,
   "metadata": {},
   "outputs": [
    {
     "name": "stdout",
     "output_type": "stream",
     "text": [
      "Ice cream details: {'flavor': 'vanilla', 'cost': 199}\n"
     ]
    }
   ],
   "source": [
    "food = dict(category='ice cream', flavor='vanilla', cost=199)\n",
    "match food:\n",
    "    case {'category': 'ice cream', **details}:\n",
    "        print(f'Ice cream details: {details}')"
   ]
  },
  {
   "cell_type": "code",
   "execution_count": 16,
   "metadata": {},
   "outputs": [
    {
     "name": "stdout",
     "output_type": "stream",
     "text": [
      "Ice cream details: {'flavor': 'vanilla'}\n"
     ]
    }
   ],
   "source": [
    "food = dict(category='ice cream', flavor='vanilla')\n",
    "match food:\n",
    "    case {'category': 'ice cream', **details}:\n",
    "        print(f'Ice cream details: {details}')"
   ]
  },
  {
   "cell_type": "code",
   "execution_count": 1,
   "metadata": {},
   "outputs": [
    {
     "name": "stdout",
     "output_type": "stream",
     "text": [
      "3.8.0 (v3.8.0:fa919fdf25, Oct 14 2019, 10:23:27) \n",
      "[Clang 6.0 (clang-600.0.57)]\n"
     ]
    }
   ],
   "source": [
    "import sys\n",
    "print(sys.version)"
   ]
  },
  {
   "cell_type": "code",
   "execution_count": 2,
   "metadata": {},
   "outputs": [
    {
     "data": {
      "text/plain": [
       "True"
      ]
     },
     "execution_count": 2,
     "metadata": {},
     "output_type": "execute_result"
    }
   ],
   "source": [
    "from collections import abc\n",
    "my_dict = {}\n",
    "isinstance(my_dict, abc.Mapping)"
   ]
  },
  {
   "cell_type": "code",
   "execution_count": 3,
   "metadata": {},
   "outputs": [
    {
     "data": {
      "text/plain": [
       "True"
      ]
     },
     "execution_count": 3,
     "metadata": {},
     "output_type": "execute_result"
    }
   ],
   "source": [
    "isinstance(my_dict, abc.MutableMapping)"
   ]
  },
  {
   "cell_type": "markdown",
   "metadata": {},
   "source": [
    "What Is Hashable\n"
   ]
  },
  {
   "cell_type": "markdown",
   "metadata": {},
   "source": [
    "str, bytes, frozenset\n",
    "\n",
    "tuple is hashable only if all its items are hashable."
   ]
  },
  {
   "cell_type": "code",
   "execution_count": 17,
   "metadata": {},
   "outputs": [
    {
     "data": {
      "text/plain": [
       "-3907003130834322577"
      ]
     },
     "execution_count": 17,
     "metadata": {},
     "output_type": "execute_result"
    }
   ],
   "source": [
    "tt = (1, 2, (30, 40))\n",
    "hash(tt)"
   ]
  },
  {
   "cell_type": "code",
   "execution_count": 18,
   "metadata": {},
   "outputs": [
    {
     "name": "stdout",
     "output_type": "stream",
     "text": [
      "unhashable type: 'list'\n"
     ]
    }
   ],
   "source": [
    "tl = (1, 2, [30, 40])\n",
    "try:\n",
    "    hash(tl)\n",
    "except TypeError as e:\n",
    "    print(e)"
   ]
  },
  {
   "cell_type": "code",
   "execution_count": 19,
   "metadata": {},
   "outputs": [
    {
     "data": {
      "text/plain": [
       "5149391500123939311"
      ]
     },
     "execution_count": 19,
     "metadata": {},
     "output_type": "execute_result"
    }
   ],
   "source": [
    "tf = (1, 2, frozenset([30, 40]))\n",
    "hash(tf)"
   ]
  },
  {
   "cell_type": "markdown",
   "metadata": {},
   "source": [
    "Relationship Between id(), __eq__(), and __hash__()\n",
    "In Python, these three functions/methods play crucial roles in object identity, equality, and hashing:\n",
    "\n",
    "id()\n",
    "Built-in function that returns a unique integer identifier for an object\n",
    "Represents the object's memory address (in CPython)\n",
    "Never changes during an object's lifetime\n",
    "Used for identity comparison with is operator\n",
    "__eq__()\n",
    "Special method that implements the equality operator (==)\n",
    "Determines if two objects are considered equal in value\n",
    "Can be customized for user-defined classes\n",
    "Default implementation often compares by identity (is)\n",
    "__hash__()\n",
    "Special method that returns an integer hash value for an object\n",
    "Used by dictionaries and sets for efficient lookups\n",
    "Key requirement: Objects that compare equal must have identical hash values\n",
    "Their Relationship\n",
    "Hash-Equality Contract: If a.__eq__(b) returns True, then hash(a) == hash(b) must be True (but not necessarily vice versa)\n",
    "\n",
    "Immutability Connection: Hashable objects typically have unchangeable values, as changing a value after insertion in a dictionary/set would break the hash-equality contract\n",
    "\n",
    "Default Implementation: For user-defined classes:\n",
    "\n",
    "Default __eq__() compares by identity (id())\n",
    "Default __hash__() uses id() to generate hash values\n",
    "Customization Requirements: If you override __eq__(), you should typically also override __hash__() to maintain the hash-equality contract (or set __hash__ = None to make the object unhashable)"
   ]
  },
  {
   "cell_type": "markdown",
   "metadata": {},
   "source": [
    "# Mastering Python Comparisons and Conditions\n",
    "\n",
    "## Identity vs Equality: `is` vs `==`\n",
    "\n",
    "### `is` Operator\n",
    "- Tests for **identity** (same object in memory)\n",
    "- Compares using `id()` function\n",
    "- Perfect for singleton objects like `None`\n",
    "\n"
   ]
  },
  {
   "cell_type": "code",
   "execution_count": null,
   "metadata": {},
   "outputs": [],
   "source": [
    "a = [1, 2, 3]\n",
    "b = a        # b references the same list as a\n",
    "a is b       # True - they are the same object\n",
    "\n",
    "c = [1, 2, 3]\n",
    "a is c       # False - different objects with same values"
   ]
  },
  {
   "cell_type": "markdown",
   "metadata": {},
   "source": [
    "\n",
    "\n",
    "### `==` Operator\n",
    "- Tests for **equality** (same value)\n",
    "- Uses the object's `__eq__()` method\n",
    "- Compares contents rather than identity\n",
    "\n"
   ]
  },
  {
   "cell_type": "code",
   "execution_count": null,
   "metadata": {},
   "outputs": [],
   "source": [
    "a = [1, 2, 3]\n",
    "c = [1, 2, 3]\n",
    "a == c       # True - they have equal values"
   ]
  },
  {
   "cell_type": "markdown",
   "metadata": {},
   "source": [
    "\n",
    "\n",
    "## Working with `None`\n",
    "\n",
    "- Always use `is` with `None`, not `==`\n",
    "- `None` is a singleton object (only one instance exists)\n",
    "\n"
   ]
  },
  {
   "cell_type": "code",
   "execution_count": null,
   "metadata": {},
   "outputs": [],
   "source": [
    "# Good practice\n",
    "if value is None:\n",
    "    # do something\n",
    "\n",
    "# Bad practice\n",
    "if value == None:\n",
    "    # do something"
   ]
  },
  {
   "cell_type": "markdown",
   "metadata": {},
   "source": [
    "\n",
    "\n",
    "## Truth Value Testing\n",
    "\n",
    "Objects are considered \"truthy\" or \"falsy\" in conditional contexts:\n",
    "\n",
    "### Falsy Values\n",
    "- `None`\n",
    "- `False`\n",
    "- `0` (or `0.0`, `0j`)\n",
    "- Empty sequences: `\"\"`, `[]`, `()`, `{}`\n",
    "- Objects where `__bool__()` returns `False` or `__len__()` returns `0`\n",
    "\n"
   ]
  },
  {
   "cell_type": "code",
   "execution_count": null,
   "metadata": {},
   "outputs": [],
   "source": [
    "# These all evaluate to False\n",
    "if not None:       # True\n",
    "if not False:      # True\n",
    "if not 0:          # True\n",
    "if not \"\":         # True\n",
    "if not []:         # True"
   ]
  },
  {
   "cell_type": "markdown",
   "metadata": {},
   "source": [
    "\n",
    "\n",
    "### Truthy Values\n",
    "- Everything else is considered True\n",
    "\n",
    "## Comparison Chaining\n",
    "\n",
    "Python allows chaining multiple comparisons:\n",
    "\n"
   ]
  },
  {
   "cell_type": "code",
   "execution_count": null,
   "metadata": {},
   "outputs": [],
   "source": [
    "# This:\n",
    "if a < b < c:\n",
    "    print(\"b is between a and c\")\n",
    "\n",
    "# Is equivalent to:\n",
    "if a < b and b < c:\n",
    "    print(\"b is between a and c\")"
   ]
  },
  {
   "cell_type": "markdown",
   "metadata": {},
   "source": [
    "\n",
    "\n",
    "## Common Pitfalls\n",
    "\n",
    "### Mutable Default Arguments\n"
   ]
  },
  {
   "cell_type": "code",
   "execution_count": null,
   "metadata": {},
   "outputs": [],
   "source": [
    "# Problematic:\n",
    "def add_item(item, lst=[]):  # lst is created once at definition\n",
    "    lst.append(item)\n",
    "    return lst\n",
    "\n",
    "# Better:\n",
    "def add_item(item, lst=None):\n",
    "    if lst is None:\n",
    "        lst = []\n",
    "    lst.append(item)\n",
    "    return lst"
   ]
  },
  {
   "cell_type": "markdown",
   "metadata": {},
   "source": [
    "\n",
    "\n",
    "### Boolean Trap\n"
   ]
  },
  {
   "cell_type": "code",
   "execution_count": null,
   "metadata": {},
   "outputs": [],
   "source": [
    "# Unclear:\n",
    "process_data(False)\n",
    "\n",
    "# Better:\n",
    "process_data(verbose=False)"
   ]
  },
  {
   "cell_type": "markdown",
   "metadata": {},
   "source": [
    "\n",
    "\n",
    "### Variable Truth Testing\n"
   ]
  },
  {
   "cell_type": "code",
   "execution_count": null,
   "metadata": {},
   "outputs": [],
   "source": [
    "# Verbose:\n",
    "if x == True:\n",
    "    # do something\n",
    "\n",
    "# Better:\n",
    "if x:\n",
    "    # do something"
   ]
  },
  {
   "cell_type": "markdown",
   "metadata": {},
   "source": [
    "\n",
    "\n",
    "Use `is not None` when you specifically want to check if a value exists (but could be falsy like `0` or `\"\"`)."
   ]
  },
  {
   "cell_type": "markdown",
   "metadata": {},
   "source": [
    "dict.Update"
   ]
  },
  {
   "cell_type": "markdown",
   "metadata": {},
   "source": [
    "# Duck Typing in Python's Dictionary Update Method\n",
    "\n",
    "\"Duck typing\" refers to the Python philosophy of \"if it walks like a duck and quacks like a duck, then it's a duck\" - meaning we care about an object's behavior rather than its type.\n",
    "\n",
    "Here's an example demonstrating how `dict.update()` uses duck typing:\n",
    "\n"
   ]
  },
  {
   "cell_type": "code",
   "execution_count": null,
   "metadata": {},
   "outputs": [],
   "source": [
    "# Example of dict.update() with duck typing\n",
    "\n",
    "# 1. Update from another dictionary (has keys() method)\n",
    "d = {'a': 1, 'b': 2}\n",
    "other_dict = {'b': 3, 'c': 4}\n",
    "d.update(other_dict)\n",
    "print(\"After updating with another dict:\", d)  # {'a': 1, 'b': 3, 'c': 4}\n",
    "\n",
    "# 2. Update from a list of tuples (no keys() method, but iterable of pairs)\n",
    "d = {'a': 1, 'b': 2}\n",
    "pairs_list = [('b', 30), ('d', 40)]\n",
    "d.update(pairs_list)\n",
    "print(\"After updating with tuple list:\", d)  # {'a': 1, 'b': 30, 'd': 40}\n",
    "\n",
    "# 3. Update from a generator expression (no keys() method, but iterable of pairs)\n",
    "d = {'a': 1, 'b': 2}\n",
    "d.update((k.upper(), v*10) for k, v in d.items())\n",
    "print(\"After updating with generator:\", d)  # {'a': 1, 'b': 2, 'A': 10, 'B': 20}\n",
    "\n",
    "# 4. Custom class that acts like a mapping (has keys() method)\n",
    "class CustomMapping:\n",
    "    def keys(self):\n",
    "        return ['x', 'y']\n",
    "    \n",
    "    def __getitem__(self, key):\n",
    "        return len(key) * 100\n",
    "        \n",
    "d = {'a': 1, 'b': 2}\n",
    "d.update(CustomMapping())\n",
    "print(\"After updating with custom mapping:\", d)  # {'a': 1, 'b': 2, 'x': 100, 'y': 100}"
   ]
  },
  {
   "cell_type": "markdown",
   "metadata": {},
   "source": [
    "\n",
    "\n",
    "The key insight here is that `d.update(m)` doesn't require `m` to be a specific type. It only requires that either:\n",
    "\n",
    "1. `m` has a `keys()` method, and supports `m[key]` (like a mapping)\n",
    "2. OR `m` can be iterated over, producing key-value pairs\n",
    "\n",
    "This flexibility makes it possible to initialize dictionaries from various sources without needing explicit type conversion."
   ]
  },
  {
   "cell_type": "markdown",
   "metadata": {},
   "source": [
    "is -> id()\n",
    "== -> __eq__()"
   ]
  },
  {
   "cell_type": "code",
   "execution_count": 20,
   "metadata": {},
   "outputs": [
    {
     "data": {
      "text/plain": [
       "True"
      ]
     },
     "execution_count": 20,
     "metadata": {},
     "output_type": "execute_result"
    }
   ],
   "source": [
    "a = dict(one=1, two=2, three=3)\n",
    "b = {'three': 3, 'two': 2, 'one': 1}\n",
    "c = dict([('two', 2), ('one', 1), ('three', 3)])\n",
    "d = dict(zip(['one', 'two', 'three'], [1, 2, 3]))\n",
    "e = dict({'three': 3, 'one': 1, 'two': 2})\n",
    "a == b == c == d == e"
   ]
  },
  {
   "cell_type": "code",
   "execution_count": 21,
   "metadata": {},
   "outputs": [
    {
     "data": {
      "text/plain": [
       "{'one': 1, 'two': 2, 'three': 3}"
      ]
     },
     "execution_count": 21,
     "metadata": {},
     "output_type": "execute_result"
    }
   ],
   "source": [
    "a"
   ]
  },
  {
   "cell_type": "code",
   "execution_count": 22,
   "metadata": {},
   "outputs": [
    {
     "data": {
      "text/plain": [
       "['one', 'two', 'three']"
      ]
     },
     "execution_count": 22,
     "metadata": {},
     "output_type": "execute_result"
    }
   ],
   "source": [
    "list(a.keys())"
   ]
  },
  {
   "cell_type": "code",
   "execution_count": 23,
   "metadata": {},
   "outputs": [
    {
     "data": {
      "text/plain": [
       "{'two': 2, 'one': 1, 'three': 3}"
      ]
     },
     "execution_count": 23,
     "metadata": {},
     "output_type": "execute_result"
    }
   ],
   "source": [
    "c"
   ]
  },
  {
   "cell_type": "code",
   "execution_count": 24,
   "metadata": {},
   "outputs": [
    {
     "data": {
      "text/plain": [
       "('three', 3)"
      ]
     },
     "execution_count": 24,
     "metadata": {},
     "output_type": "execute_result"
    }
   ],
   "source": [
    "c.popitem()"
   ]
  },
  {
   "cell_type": "code",
   "execution_count": 25,
   "metadata": {},
   "outputs": [
    {
     "data": {
      "text/plain": [
       "{'two': 2, 'one': 1}"
      ]
     },
     "execution_count": 25,
     "metadata": {},
     "output_type": "execute_result"
    }
   ],
   "source": [
    "c"
   ]
  },
  {
   "cell_type": "code",
   "execution_count": 26,
   "metadata": {},
   "outputs": [
    {
     "data": {
      "text/plain": [
       "False"
      ]
     },
     "execution_count": 26,
     "metadata": {},
     "output_type": "execute_result"
    }
   ],
   "source": [
    "a == c"
   ]
  },
  {
   "cell_type": "code",
   "execution_count": 27,
   "metadata": {},
   "outputs": [
    {
     "data": {
      "text/plain": [
       "False"
      ]
     },
     "execution_count": 27,
     "metadata": {},
     "output_type": "execute_result"
    }
   ],
   "source": [
    "a is b"
   ]
  },
  {
   "cell_type": "code",
   "execution_count": 15,
   "metadata": {},
   "outputs": [],
   "source": [
    "dial_codes = [                                                  # <1>\n",
    "    (880, 'Bangladesh'),\n",
    "    (55,  'Brazil'),\n",
    "    (86,  'China'),\n",
    "    (91,  'India'),\n",
    "    (62,  'Indonesia'),\n",
    "    (81,  'Japan'),\n",
    "    (234, 'Nigeria'),\n",
    "    (92,  'Pakistan'),\n",
    "    (7,   'Russia'),\n",
    "    (1,   'United States'),\n",
    "]"
   ]
  },
  {
   "cell_type": "code",
   "execution_count": 17,
   "metadata": {},
   "outputs": [
    {
     "data": {
      "text/plain": [
       "{'Bangladesh': 880,\n",
       " 'Brazil': 55,\n",
       " 'China': 86,\n",
       " 'India': 91,\n",
       " 'Indonesia': 62,\n",
       " 'Japan': 81,\n",
       " 'Nigeria': 234,\n",
       " 'Pakistan': 92,\n",
       " 'Russia': 7,\n",
       " 'United States': 1}"
      ]
     },
     "execution_count": 17,
     "metadata": {},
     "output_type": "execute_result"
    }
   ],
   "source": [
    "country_dial = {country: code for code, country in dial_codes}\n",
    "country_dial"
   ]
  },
  {
   "cell_type": "code",
   "execution_count": 18,
   "metadata": {},
   "outputs": [
    {
     "data": {
      "text/plain": [
       "{55: 'BRAZIL', 62: 'INDONESIA', 7: 'RUSSIA', 1: 'UNITED STATES'}"
      ]
     },
     "execution_count": 18,
     "metadata": {},
     "output_type": "execute_result"
    }
   ],
   "source": [
    "{code: country.upper() \n",
    "    for country, code in sorted(country_dial.items())\n",
    "    if code < 70}"
   ]
  },
  {
   "cell_type": "code",
   "execution_count": 20,
   "metadata": {},
   "outputs": [
    {
     "data": {
      "text/plain": [
       "{'Pakistan': 92,\n",
       " 'Indonesia': 62,\n",
       " 'Russia': 7,\n",
       " 'Japan': 81,\n",
       " 'United States': 1,\n",
       " 'China': 86,\n",
       " 'Brazil': 55,\n",
       " 'Bangladesh': 880,\n",
       " 'Nigeria': 234,\n",
       " 'India': 91}"
      ]
     },
     "execution_count": 20,
     "metadata": {},
     "output_type": "execute_result"
    }
   ],
   "source": [
    "from random import shuffle\n",
    "shuffle(dial_codes)\n",
    "country_dial = {country: code for code, country in dial_codes}\n",
    "country_dial"
   ]
  },
  {
   "cell_type": "markdown",
   "metadata": {},
   "source": [
    "dict.setdefault"
   ]
  },
  {
   "cell_type": "code",
   "execution_count": 28,
   "metadata": {},
   "outputs": [
    {
     "data": {
      "text/plain": [
       "{'one': 1, 'two': 2, 'three': 3, 'four': [4]}"
      ]
     },
     "execution_count": 28,
     "metadata": {},
     "output_type": "execute_result"
    }
   ],
   "source": [
    "a = {'one': 1, 'two': 2, 'three': 3}\n",
    "occur = a.get('four', [])  # search first time\n",
    "occur.append(4)  \n",
    "a['four'] = occur  # search second time\n",
    "a"
   ]
  },
  {
   "cell_type": "code",
   "execution_count": 30,
   "metadata": {},
   "outputs": [
    {
     "data": {
      "text/plain": [
       "{'one': 1, 'two': 2, 'three': 3, 'four': [4]}"
      ]
     },
     "execution_count": 30,
     "metadata": {},
     "output_type": "execute_result"
    }
   ],
   "source": [
    "a = {'one': 1, 'two': 2, 'three': 3}\n",
    "a.setdefault('four', []).append(4)  # search first time\n",
    "a"
   ]
  },
  {
   "cell_type": "code",
   "execution_count": 31,
   "metadata": {},
   "outputs": [
    {
     "data": {
      "text/plain": [
       "{'one': 1, 'two': 2, 'three': 3, 'four': [4]}"
      ]
     },
     "execution_count": 31,
     "metadata": {},
     "output_type": "execute_result"
    }
   ],
   "source": [
    "a = {'one': 1, 'two': 2, 'three': 3}\n",
    "if 'four' not in a: # search first time\n",
    "    a['four'] = [] # search second time\n",
    "a['four'].append(4)  # search third time\n",
    "a"
   ]
  },
  {
   "cell_type": "markdown",
   "metadata": {},
   "source": [
    "Automatic Handling of Missing Keys"
   ]
  },
  {
   "cell_type": "code",
   "execution_count": null,
   "metadata": {},
   "outputs": [],
   "source": [
    "import collections\n",
    "import re\n",
    "import sys\n",
    "\n",
    "WORD_RE = re.compile(r'\\w+')\n",
    "\n",
    "index = collections.defaultdict(list) # create a new list for each new key. list is callable to produce a default value\n",
    "with open(sys.argv[1], encoding='utf-8') as fp:\n",
    "    for line_no, line in enumerate(fp, 1):\n",
    "        for match in WORD_RE.finditer(line):\n",
    "            word = match.group()\n",
    "            column_no = match.start() + 1\n",
    "            location = (line_no, column_no)\n",
    "            index[word].append(location) # no error\n",
    "\n",
    "# display in alphabetical order\n",
    "for word in sorted(index, key=str.upper):\n",
    "    print(word, index[word])"
   ]
  },
  {
   "cell_type": "markdown",
   "metadata": {},
   "source": [
    "__missing__\n",
    "\n",
    "Underlying the way mappings deal with missing keys is the aptly named __missing__ method. This method is not defined in the base dict class, but dict is aware of it: if you subclass dict and provide a __missing__ method, the standard dict.__getitem__ will call it whenever a key is not found, instead of raising KeyError."
   ]
  },
  {
   "cell_type": "code",
   "execution_count": null,
   "metadata": {},
   "outputs": [],
   "source": [
    "class StrKeyDict0(dict):\n",
    "    def __missing__(self, key):\n",
    "        if isinstance(key, str):\n",
    "            raise KeyError(key)\n",
    "        return self[str(key)]\n",
    "\n",
    "    def __contains__(self, key):\n",
    "        return key in self.keys() or str(key) in self.keys()\n",
    "\n",
    "    def get(self, key, default=None):\n",
    "        try:\n",
    "            return self[key]\n",
    "        except KeyError:\n",
    "            return default\n",
    "        \n",
    "        \n",
    "d = StrKeyDict0([('2', 'two'), ('4', 'four')])"
   ]
  },
  {
   "cell_type": "code",
   "execution_count": 40,
   "metadata": {},
   "outputs": [
    {
     "data": {
      "text/plain": [
       "'two'"
      ]
     },
     "execution_count": 40,
     "metadata": {},
     "output_type": "execute_result"
    }
   ],
   "source": [
    "d[2]"
   ]
  },
  {
   "cell_type": "code",
   "execution_count": 41,
   "metadata": {},
   "outputs": [
    {
     "data": {
      "text/plain": [
       "'two'"
      ]
     },
     "execution_count": 41,
     "metadata": {},
     "output_type": "execute_result"
    }
   ],
   "source": [
    "d['2']"
   ]
  },
  {
   "cell_type": "code",
   "execution_count": 42,
   "metadata": {},
   "outputs": [
    {
     "ename": "KeyError",
     "evalue": "'1'",
     "output_type": "error",
     "traceback": [
      "\u001b[31m---------------------------------------------------------------------------\u001b[39m",
      "\u001b[31mKeyError\u001b[39m                                  Traceback (most recent call last)",
      "\u001b[36mCell\u001b[39m\u001b[36m \u001b[39m\u001b[32mIn[42]\u001b[39m\u001b[32m, line 1\u001b[39m\n\u001b[32m----> \u001b[39m\u001b[32m1\u001b[39m \u001b[43md\u001b[49m\u001b[43m[\u001b[49m\u001b[32;43m1\u001b[39;49m\u001b[43m]\u001b[49m\n",
      "\u001b[36mCell\u001b[39m\u001b[36m \u001b[39m\u001b[32mIn[39]\u001b[39m\u001b[32m, line 5\u001b[39m, in \u001b[36mStrKeyDict0.__missing__\u001b[39m\u001b[34m(self, key)\u001b[39m\n\u001b[32m      3\u001b[39m \u001b[38;5;28;01mif\u001b[39;00m \u001b[38;5;28misinstance\u001b[39m(key, \u001b[38;5;28mstr\u001b[39m):\n\u001b[32m      4\u001b[39m     \u001b[38;5;28;01mraise\u001b[39;00m \u001b[38;5;167;01mKeyError\u001b[39;00m(key)\n\u001b[32m----> \u001b[39m\u001b[32m5\u001b[39m \u001b[38;5;28;01mreturn\u001b[39;00m \u001b[38;5;28;43mself\u001b[39;49m\u001b[43m[\u001b[49m\u001b[38;5;28;43mstr\u001b[39;49m\u001b[43m(\u001b[49m\u001b[43mkey\u001b[49m\u001b[43m)\u001b[49m\u001b[43m]\u001b[49m\n",
      "\u001b[36mCell\u001b[39m\u001b[36m \u001b[39m\u001b[32mIn[39]\u001b[39m\u001b[32m, line 4\u001b[39m, in \u001b[36mStrKeyDict0.__missing__\u001b[39m\u001b[34m(self, key)\u001b[39m\n\u001b[32m      2\u001b[39m \u001b[38;5;28;01mdef\u001b[39;00m\u001b[38;5;250m \u001b[39m\u001b[34m__missing__\u001b[39m(\u001b[38;5;28mself\u001b[39m, key):\n\u001b[32m      3\u001b[39m     \u001b[38;5;28;01mif\u001b[39;00m \u001b[38;5;28misinstance\u001b[39m(key, \u001b[38;5;28mstr\u001b[39m):\n\u001b[32m----> \u001b[39m\u001b[32m4\u001b[39m         \u001b[38;5;28;01mraise\u001b[39;00m \u001b[38;5;167;01mKeyError\u001b[39;00m(key)\n\u001b[32m      5\u001b[39m     \u001b[38;5;28;01mreturn\u001b[39;00m \u001b[38;5;28mself\u001b[39m[\u001b[38;5;28mstr\u001b[39m(key)]\n",
      "\u001b[31mKeyError\u001b[39m: '1'"
     ]
    }
   ],
   "source": [
    "d[1]"
   ]
  },
  {
   "cell_type": "code",
   "execution_count": 43,
   "metadata": {},
   "outputs": [
    {
     "data": {
      "text/plain": [
       "False"
      ]
     },
     "execution_count": 43,
     "metadata": {},
     "output_type": "execute_result"
    }
   ],
   "source": [
    "1 in d"
   ]
  },
  {
   "cell_type": "markdown",
   "metadata": {},
   "source": [
    "collections.OrderedDict"
   ]
  },
  {
   "cell_type": "code",
   "execution_count": 45,
   "metadata": {},
   "outputs": [],
   "source": [
    "a=OrderedDict([('one', 1), ('two', 2), ('three', 3)])\n",
    "b=OrderedDict([('three', 3), ('two', 2), ('one', 1)])\n"
   ]
  },
  {
   "cell_type": "code",
   "execution_count": 46,
   "metadata": {},
   "outputs": [
    {
     "name": "stdout",
     "output_type": "stream",
     "text": [
      "OrderedDict({'one': 1, 'two': 2, 'three': 3})\n",
      "OrderedDict({'three': 3, 'two': 2, 'one': 1})\n",
      "False\n",
      "False\n"
     ]
    }
   ],
   "source": [
    "print(a)\n",
    "print(b)\n",
    "print(a == b)  # False, order matters\n",
    "print(a is b)  # False, different objects"
   ]
  },
  {
   "cell_type": "markdown",
   "metadata": {},
   "source": [
    "# Mastering OrderedDict in Python\n",
    "\n",
    "`OrderedDict` is a dictionary subclass that remembers the insertion order of keys. Here are some comprehensive examples to help you master it:\n",
    "\n",
    "## 1. Basic Usage and Comparison\n",
    "\n"
   ]
  },
  {
   "cell_type": "code",
   "execution_count": 47,
   "metadata": {},
   "outputs": [
    {
     "name": "stdout",
     "output_type": "stream",
     "text": [
      "Regular dict comparison: True\n",
      "OrderedDict comparison: False\n"
     ]
    }
   ],
   "source": [
    "from collections import OrderedDict\n",
    "\n",
    "# Creating OrderedDicts\n",
    "od1 = OrderedDict([('apple', 1), ('banana', 2), ('cherry', 3)])\n",
    "od2 = OrderedDict([('banana', 2), ('apple', 1), ('cherry', 3)])\n",
    "\n",
    "# Regular dictionaries (in Python 3.7+, regular dicts also preserve order, but comparison is different)\n",
    "d1 = {'apple': 1, 'banana': 2, 'cherry': 3}\n",
    "d2 = {'banana': 2, 'apple': 1, 'cherry': 3}\n",
    "\n",
    "# Demonstrating order matters for equality in OrderedDict but not regular dict\n",
    "print(\"Regular dict comparison:\", d1 == d2)  # True, order doesn't matter\n",
    "print(\"OrderedDict comparison:\", od1 == od2)  # False, order matters!"
   ]
  },
  {
   "cell_type": "markdown",
   "metadata": {},
   "source": [
    "\n",
    "\n",
    "## 2. Maintaining Order in Operations\n",
    "\n"
   ]
  },
  {
   "cell_type": "code",
   "execution_count": 48,
   "metadata": {},
   "outputs": [
    {
     "name": "stdout",
     "output_type": "stream",
     "text": [
      "Menu items in order:\n",
      "appetizer: salad\n",
      "main: steak\n",
      "dessert: ice cream\n",
      "drink: wine\n",
      "\n",
      "After update, still in order:\n",
      "appetizer: soup\n",
      "main: steak\n",
      "dessert: ice cream\n",
      "drink: wine\n",
      "side: fries\n",
      "\n",
      "After moving appetizer to end:\n",
      "main: steak\n",
      "dessert: ice cream\n",
      "drink: wine\n",
      "side: fries\n",
      "appetizer: soup\n",
      "\n",
      "After moving dessert to beginning:\n",
      "dessert: ice cream\n",
      "main: steak\n",
      "drink: wine\n",
      "side: fries\n",
      "appetizer: soup\n"
     ]
    }
   ],
   "source": [
    "from collections import OrderedDict\n",
    "\n",
    "# Create an ordered dictionary\n",
    "menu = OrderedDict([\n",
    "    ('appetizer', 'salad'),\n",
    "    ('main', 'steak'),\n",
    "    ('dessert', 'ice cream'),\n",
    "    ('drink', 'wine')\n",
    "])\n",
    "\n",
    "# Items are returned in insertion order\n",
    "print(\"Menu items in order:\")\n",
    "for course, item in menu.items():\n",
    "    print(f\"{course}: {item}\")\n",
    "\n",
    "# Updating preserves existing order for existing keys\n",
    "menu.update([('appetizer', 'soup'), ('side', 'fries')])\n",
    "print(\"\\nAfter update, still in order:\")\n",
    "for course, item in menu.items():\n",
    "    print(f\"{course}: {item}\")\n",
    "\n",
    "# Moving an item to the end\n",
    "menu.move_to_end('appetizer')\n",
    "print(\"\\nAfter moving appetizer to end:\")\n",
    "for course, item in menu.items():\n",
    "    print(f\"{course}: {item}\")\n",
    "\n",
    "# Moving an item to the beginning (with last=False)\n",
    "menu.move_to_end('dessert', last=False)\n",
    "print(\"\\nAfter moving dessert to beginning:\")\n",
    "for course, item in menu.items():\n",
    "    print(f\"{course}: {item}\")"
   ]
  },
  {
   "cell_type": "markdown",
   "metadata": {},
   "source": [
    "\n",
    "\n",
    "## 3. LRU (Least Recently Used) Cache Implementation\n",
    "\n"
   ]
  },
  {
   "cell_type": "code",
   "execution_count": 49,
   "metadata": {},
   "outputs": [
    {
     "name": "stdout",
     "output_type": "stream",
     "text": [
      "Cache after initial puts: [('a', 1), ('b', 2), ('c', 3)]\n",
      "Cache after getting 'a': [('b', 2), ('c', 3), ('a', 1)]\n",
      "Cache after adding 'd': [('c', 3), ('a', 1), ('d', 4)]\n"
     ]
    }
   ],
   "source": [
    "from collections import OrderedDict\n",
    "\n",
    "class LRUCache:\n",
    "    def __init__(self, capacity):\n",
    "        self.cache = OrderedDict()\n",
    "        self.capacity = capacity\n",
    "        \n",
    "    def get(self, key):\n",
    "        if key not in self.cache:\n",
    "            return -1\n",
    "        # Move the accessed item to the end (most recently used)\n",
    "        self.cache.move_to_end(key)\n",
    "        return self.cache[key]\n",
    "    \n",
    "    def put(self, key, value):\n",
    "        # If key exists, update and move to the end\n",
    "        if key in self.cache:\n",
    "            self.cache[key] = value\n",
    "            self.cache.move_to_end(key)\n",
    "            return\n",
    "        \n",
    "        # If at capacity, remove least recently used item (first item)\n",
    "        if len(self.cache) >= self.capacity:\n",
    "            self.cache.popitem(last=False)\n",
    "            \n",
    "        # Add new item at the end (most recently used)\n",
    "        self.cache[key] = value\n",
    "\n",
    "# Example usage\n",
    "cache = LRUCache(3)\n",
    "cache.put('a', 1)\n",
    "cache.put('b', 2)\n",
    "cache.put('c', 3)\n",
    "print(\"Cache after initial puts:\", list(cache.cache.items()))\n",
    "\n",
    "# Access 'a', moving it to the end\n",
    "cache.get('a')\n",
    "print(\"Cache after getting 'a':\", list(cache.cache.items()))\n",
    "\n",
    "# Add 'd', which will evict the least recently used (now 'b')\n",
    "cache.put('d', 4)\n",
    "print(\"Cache after adding 'd':\", list(cache.cache.items()))"
   ]
  },
  {
   "cell_type": "markdown",
   "metadata": {},
   "source": [
    "\n",
    "\n",
    "## 4. Preserving Order in Dictionary Operations\n",
    "\n"
   ]
  },
  {
   "cell_type": "code",
   "execution_count": 50,
   "metadata": {},
   "outputs": [
    {
     "name": "stdout",
     "output_type": "stream",
     "text": [
      "Original results:\n",
      "1. Alice: Gold\n",
      "2. Bob: Silver\n",
      "3. Charlie: Bronze\n",
      "\n",
      "After moving Bob to the end:\n",
      "1. Alice: Gold\n",
      "2. Charlie: Bronze\n",
      "3. Bob: Silver\n",
      "\n",
      "Without Charlie:\n",
      "1. Alice: Gold\n",
      "2. Bob: Silver\n"
     ]
    }
   ],
   "source": [
    "from collections import OrderedDict\n",
    "\n",
    "# Track the order of winners in a race\n",
    "race_results = OrderedDict([\n",
    "    ('Alice', 'Gold'), \n",
    "    ('Bob', 'Silver'), \n",
    "    ('Charlie', 'Bronze')\n",
    "])\n",
    "\n",
    "print(\"Original results:\")\n",
    "for position, (name, medal) in enumerate(race_results.items(), 1):\n",
    "    print(f\"{position}. {name}: {medal}\")\n",
    "\n",
    "# Remove and re-add a participant - in regular dict this would break order\n",
    "medal = race_results.pop('Bob')\n",
    "race_results['Bob'] = medal\n",
    "\n",
    "print(\"\\nAfter moving Bob to the end:\")\n",
    "for position, (name, medal) in enumerate(race_results.items(), 1):\n",
    "    print(f\"{position}. {name}: {medal}\")\n",
    "\n",
    "# Dictionary comprehension preserves order in OrderedDict\n",
    "filtered_results = OrderedDict((name, medal) for name, medal in race_results.items() \n",
    "                               if name != 'Charlie')\n",
    "print(\"\\nWithout Charlie:\")\n",
    "for position, (name, medal) in enumerate(filtered_results.items(), 1):\n",
    "    print(f\"{position}. {name}: {medal}\")"
   ]
  },
  {
   "cell_type": "markdown",
   "metadata": {},
   "source": [
    "\n",
    "\n",
    "## 5. Custom Sort with OrderedDict\n",
    "\n"
   ]
  },
  {
   "cell_type": "code",
   "execution_count": 51,
   "metadata": {},
   "outputs": [
    {
     "name": "stdout",
     "output_type": "stream",
     "text": [
      "Scores sorted by value (desc) then key (asc):\n",
      "1. Bob: 92\n",
      "2. David: 92\n",
      "3. Eve: 88\n",
      "4. Alice: 87\n",
      "5. Charlie: 75\n"
     ]
    }
   ],
   "source": [
    "from collections import OrderedDict\n",
    "\n",
    "# Initial data\n",
    "scores = {'Alice': 87, 'Bob': 92, 'Charlie': 75, 'David': 92, 'Eve': 88}\n",
    "\n",
    "# Sort by score (descending), then by name (alphabetically) for ties\n",
    "sorted_scores = OrderedDict(\n",
    "    sorted(\n",
    "        scores.items(),\n",
    "        key=lambda x: (-x[1], x[0])  # Sort by -score (for desc), then name\n",
    "    )\n",
    ")\n",
    "\n",
    "print(\"Scores sorted by value (desc) then key (asc):\")\n",
    "for rank, (name, score) in enumerate(sorted_scores.items(), 1):\n",
    "    print(f\"{rank}. {name}: {score}\")"
   ]
  },
  {
   "cell_type": "markdown",
   "metadata": {},
   "source": [
    "\n",
    "\n",
    "## Key Benefits and Use Cases\n",
    "\n",
    "1. **When order matters**: For configurations, CSV headers, or any data where order is important\n",
    "2. **Predictable iteration**: Guaranteed order of items when iterating\n",
    "3. **LRU Caches**: Perfect for implementing efficient caching mechanisms\n",
    "4. **Preserving ordering semantics**: When merging multiple data sources where order is significant\n",
    "5. **Backward compatibility**: For code that needs to run across Python versions\n",
    "\n",
    "Note that since Python 3.7, regular dictionaries also maintain insertion order, but `OrderedDict` still has specific advantages like the `move_to_end()` method and order-sensitive equality operations."
   ]
  },
  {
   "cell_type": "markdown",
   "metadata": {},
   "source": [
    "collections.ChainMap"
   ]
  },
  {
   "cell_type": "code",
   "execution_count": 52,
   "metadata": {},
   "outputs": [
    {
     "data": {
      "text/plain": [
       "3"
      ]
     },
     "execution_count": 52,
     "metadata": {},
     "output_type": "execute_result"
    }
   ],
   "source": [
    "from collections import ChainMap\n",
    "\n",
    "\n",
    "d1= dict(a=1, b=2)\n",
    "d2= dict(a=2, b=2, c=3)\n",
    "chain = ChainMap(d1, d2)\n",
    "chain['a']  # 1, from d1\n",
    "chain['c']  # 3, from d1"
   ]
  },
  {
   "cell_type": "code",
   "execution_count": 53,
   "metadata": {},
   "outputs": [
    {
     "name": "stdout",
     "output_type": "stream",
     "text": [
      "{'a': 1, 'b': 2, 'c': -1}\n",
      "{'a': 2, 'b': 2, 'c': 3}\n"
     ]
    }
   ],
   "source": [
    "chain['c'] = -1\n",
    "print(d1)\n",
    "print(d2)  # d2 is not affected"
   ]
  },
  {
   "cell_type": "markdown",
   "metadata": {},
   "source": [
    "# Mastering ChainMap in Python\n",
    "\n",
    "`ChainMap` from the `collections` module is a powerful tool for managing multiple dictionaries as a single mapping. Here's a comprehensive example demonstrating its capabilities:\n",
    "\n"
   ]
  },
  {
   "cell_type": "code",
   "execution_count": null,
   "metadata": {},
   "outputs": [],
   "source": [
    "from collections import ChainMap\n",
    "import os\n",
    "\n",
    "# Practical Example: Command-line Arguments with Defaults and Environment Variables\n",
    "# Let's simulate a configuration system with multiple layers of precedence:\n",
    "# 1. Command-line arguments (highest priority)\n",
    "# 2. Environment variables (middle priority)\n",
    "# 3. Default settings (lowest priority)\n",
    "\n",
    "# Default configurations\n",
    "defaults = {\n",
    "    'debug': False,\n",
    "    'port': 8000,\n",
    "    'host': 'localhost',\n",
    "    'database': 'test_db',\n",
    "    'timeout': 30\n",
    "}\n",
    "\n",
    "# Environment variables (with ENV_ prefix)\n",
    "# In a real app, you'd use os.environ, but we'll simulate it here\n",
    "env_vars = {\n",
    "    'port': int(os.environ.get('ENV_PORT', '0')) or None,\n",
    "    'host': os.environ.get('ENV_HOST'),\n",
    "    'database': os.environ.get('ENV_DATABASE'),\n",
    "    'timeout': int(os.environ.get('ENV_TIMEOUT', '0')) or None,\n",
    "    'log_level': 'INFO'  # An env-specific setting not in defaults\n",
    "}\n",
    "# Remove None values\n",
    "env_vars = {k: v for k, v in env_vars.items() if v is not None}\n",
    "\n",
    "# Command line arguments (highest priority)\n",
    "# In a real app, you'd parse these from sys.argv\n",
    "cmd_args = {\n",
    "    'port': 9000,\n",
    "    'debug': True\n",
    "}\n",
    "\n",
    "# Create the ChainMap with proper precedence\n",
    "config = ChainMap(cmd_args, env_vars, defaults)\n",
    "\n",
    "# Using the configuration\n",
    "print(f\"Server Configuration:\")\n",
    "print(f\"Debug mode: {config['debug']}\")          # From cmd_args\n",
    "print(f\"Port: {config['port']}\")                 # From cmd_args\n",
    "print(f\"Host: {config['host']}\")                 # From defaults\n",
    "print(f\"Database: {config['database']}\")         # From defaults\n",
    "print(f\"Timeout: {config['timeout']}\")           # From defaults\n",
    "print(f\"Log level: {config['log_level']}\")       # From env_vars\n",
    "\n",
    "# Adding a new configuration source (e.g., config file)\n",
    "config_file = {\n",
    "    'host': 'config-host',\n",
    "    'worker_processes': 4\n",
    "}\n",
    "\n",
    "# Insert the new mapping at position 1 (between cmd_args and env_vars)\n",
    "config = config.new_child(config_file)\n",
    "config.maps.insert(1, config_file)  # Adjust position\n",
    "\n",
    "print(\"\\nAfter adding config file:\")\n",
    "print(f\"Host: {config['host']}\")                 # From cmd_args\n",
    "print(f\"Worker processes: {config['worker_processes']}\") # From config_file\n",
    "\n",
    "# Updating configuration at runtime\n",
    "config['timeout'] = 60  # This modifies the first map (cmd_args)\n",
    "print(\"\\nAfter updating timeout:\")\n",
    "print(f\"Timeout: {config['timeout']}\")           # Now 60\n",
    "print(f\"Original defaults unchanged: {defaults['timeout']}\") # Still 30\n",
    "\n",
    "# Access the parents (all maps except the first one)\n",
    "parent_configs = config.parents\n",
    "print(\"\\nParent configurations (without cmd_args):\")\n",
    "print(f\"Host from parents: {parent_configs['host']}\")  # From config_file"
   ]
  },
  {
   "cell_type": "markdown",
   "metadata": {},
   "source": [
    "\n",
    "\n",
    "This example shows how `ChainMap` excels at managing layered configurations where values in the earlier mappings take precedence over those in later mappings. It's especially useful for combining default settings with user configurations and environment variables."
   ]
  },
  {
   "cell_type": "markdown",
   "metadata": {},
   "source": [
    "collections.Counter"
   ]
  },
  {
   "cell_type": "code",
   "execution_count": 55,
   "metadata": {},
   "outputs": [
    {
     "data": {
      "text/plain": [
       "Counter({'a': 5, 'b': 2, 'r': 2, 'c': 1, 'd': 1})"
      ]
     },
     "execution_count": 55,
     "metadata": {},
     "output_type": "execute_result"
    }
   ],
   "source": [
    "import collections\n",
    "\n",
    "ct = collections.Counter('abracadabra')\n",
    "ct"
   ]
  },
  {
   "cell_type": "code",
   "execution_count": 56,
   "metadata": {},
   "outputs": [
    {
     "data": {
      "text/plain": [
       "Counter({'a': 10, 'z': 3, 'b': 2, 'r': 2, 'c': 1, 'd': 1})"
      ]
     },
     "execution_count": 56,
     "metadata": {},
     "output_type": "execute_result"
    }
   ],
   "source": [
    "ct.update('aaaaazzz')\n",
    "ct"
   ]
  },
  {
   "cell_type": "code",
   "execution_count": 57,
   "metadata": {},
   "outputs": [
    {
     "data": {
      "text/plain": [
       "[('a', 10), ('z', 3), ('b', 2)]"
      ]
     },
     "execution_count": 57,
     "metadata": {},
     "output_type": "execute_result"
    }
   ],
   "source": [
    "ct.most_common(3)"
   ]
  },
  {
   "cell_type": "code",
   "execution_count": 58,
   "metadata": {},
   "outputs": [
    {
     "data": {
      "text/plain": [
       "{'one': 12, 'two': 2, 'three': 3}"
      ]
     },
     "execution_count": 58,
     "metadata": {},
     "output_type": "execute_result"
    }
   ],
   "source": [
    "ct2 = {'one': 1, 'two': 2, 'three': 3, 'one': 12}\n",
    "\n",
    "ct2"
   ]
  },
  {
   "cell_type": "code",
   "execution_count": 59,
   "metadata": {},
   "outputs": [
    {
     "data": {
      "text/plain": [
       "Counter({'one': 12, 'three': 3, 'two': 2})"
      ]
     },
     "execution_count": 59,
     "metadata": {},
     "output_type": "execute_result"
    }
   ],
   "source": [
    "collections.Counter(ct2)"
   ]
  },
  {
   "cell_type": "markdown",
   "metadata": {},
   "source": [
    "# Advanced Counter Example with Complex Data\n",
    "\n",
    "Here's a practical example using `Counter` with more complex data than simple strings:\n",
    "\n"
   ]
  },
  {
   "cell_type": "code",
   "execution_count": 60,
   "metadata": {},
   "outputs": [
    {
     "name": "stdout",
     "output_type": "stream",
     "text": [
      "Page visit counts:\n",
      "  /home: 4 visits\n",
      "  /products: 4 visits\n",
      "  /checkout: 3 visits\n",
      "\n",
      "Visits by user:\n",
      "  user1: 5 visits\n",
      "  user2: 3 visits\n",
      "  user3: 3 visits\n",
      "\n",
      "Visits by date:\n",
      "  2025-04-26: 6 visits\n",
      "  2025-04-25: 5 visits\n",
      "\n",
      "User-page combinations:\n",
      "  user1 visited /home: 2 times\n",
      "  user1 visited /products: 2 times\n",
      "  user2 visited /products: 1 times\n",
      "\n",
      "Changes in page popularity from day 1 to day 2:\n",
      "  /checkout: +1 more visits on day 2\n",
      "\n",
      "Pages visited on both days (with minimum counts):\n",
      "  /home: 2 visits (minimum across both days)\n",
      "  /products: 2 visits (minimum across both days)\n",
      "  /checkout: 1 visits (minimum across both days)\n"
     ]
    }
   ],
   "source": [
    "from collections import Counter\n",
    "from datetime import date\n",
    "\n",
    "# Sample data: website visits by user and day\n",
    "page_visits = [\n",
    "    {'user': 'user1', 'page': '/home', 'date': date(2025, 4, 25)},\n",
    "    {'user': 'user2', 'page': '/products', 'date': date(2025, 4, 25)},\n",
    "    {'user': 'user1', 'page': '/products', 'date': date(2025, 4, 25)},\n",
    "    {'user': 'user3', 'page': '/home', 'date': date(2025, 4, 25)},\n",
    "    {'user': 'user1', 'page': '/checkout', 'date': date(2025, 4, 25)},\n",
    "    {'user': 'user2', 'page': '/home', 'date': date(2025, 4, 26)},\n",
    "    {'user': 'user1', 'page': '/home', 'date': date(2025, 4, 26)},\n",
    "    {'user': 'user3', 'page': '/products', 'date': date(2025, 4, 26)},\n",
    "    {'user': 'user2', 'page': '/checkout', 'date': date(2025, 4, 26)},\n",
    "    {'user': 'user1', 'page': '/products', 'date': date(2025, 4, 26)},\n",
    "    {'user': 'user3', 'page': '/checkout', 'date': date(2025, 4, 26)},\n",
    "]\n",
    "\n",
    "# Count page visits\n",
    "page_counter = Counter(visit['page'] for visit in page_visits)\n",
    "print(\"Page visit counts:\")\n",
    "for page, count in page_counter.most_common():\n",
    "    print(f\"  {page}: {count} visits\")\n",
    "\n",
    "# Count visits by user\n",
    "user_counter = Counter(visit['user'] for visit in page_visits)\n",
    "print(\"\\nVisits by user:\")\n",
    "for user, count in user_counter.most_common():\n",
    "    print(f\"  {user}: {count} visits\")\n",
    "\n",
    "# Count visits by date\n",
    "date_counter = Counter(visit['date'] for visit in page_visits)\n",
    "print(\"\\nVisits by date:\")\n",
    "for visit_date, count in date_counter.most_common():\n",
    "    print(f\"  {visit_date}: {count} visits\")\n",
    "\n",
    "# Count user-page combinations (using tuples as keys)\n",
    "user_page_counter = Counter((visit['user'], visit['page']) for visit in page_visits)\n",
    "print(\"\\nUser-page combinations:\")\n",
    "for (user, page), count in user_page_counter.most_common(3):  # Top 3 combinations\n",
    "    print(f\"  {user} visited {page}: {count} times\")\n",
    "\n",
    "# Performing operations with counters\n",
    "# Find which pages are more popular on the first day vs second day\n",
    "day1 = date(2025, 4, 25)\n",
    "day2 = date(2025, 4, 26)\n",
    "\n",
    "day1_pages = Counter(visit['page'] for visit in page_visits if visit['date'] == day1)\n",
    "day2_pages = Counter(visit['page'] for visit in page_visits if visit['date'] == day2)\n",
    "\n",
    "print(\"\\nChanges in page popularity from day 1 to day 2:\")\n",
    "difference = day2_pages - day1_pages  # Pages that were more popular on day 2\n",
    "\n",
    "for page, count_diff in difference.most_common():\n",
    "    if count_diff > 0:\n",
    "        print(f\"  {page}: +{count_diff} more visits on day 2\")\n",
    "\n",
    "# Finding common elements between days\n",
    "common_pages = day1_pages & day2_pages\n",
    "print(\"\\nPages visited on both days (with minimum counts):\")\n",
    "for page, count in common_pages.most_common():\n",
    "    print(f\"  {page}: {count} visits (minimum across both days)\")"
   ]
  },
  {
   "cell_type": "markdown",
   "metadata": {},
   "source": [
    "\n",
    "\n",
    "This example demonstrates:\n",
    "\n",
    "1. Using Counter with dictionary values and complex keys (including tuples)\n",
    "2. Extracting insights from structured data using Counter\n",
    "3. Analyzing trends over time\n",
    "4. Comparing different data segments through Counter arithmetic\n",
    "5. Finding common patterns across data subsets\n",
    "\n",
    "Counter is particularly useful for these types of data analysis tasks where you need to quickly aggregate and compare distributions across different dimensions of your data."
   ]
  },
  {
   "cell_type": "markdown",
   "metadata": {},
   "source": [
    "shelve.Shelf"
   ]
  },
  {
   "cell_type": "code",
   "execution_count": null,
   "metadata": {},
   "outputs": [],
   "source": []
  },
  {
   "cell_type": "markdown",
   "metadata": {},
   "source": [
    "Subclassing UserDict Instead of dict\n",
    "\n",
    "It’s better to create a new mapping type by extending collections.UserDict rather than dict. "
   ]
  },
  {
   "cell_type": "code",
   "execution_count": 61,
   "metadata": {},
   "outputs": [],
   "source": [
    "import collections\n",
    "\n",
    "\n",
    "class StrKeyDict(collections.UserDict):  \n",
    "\n",
    "    def __missing__(self, key):  \n",
    "        if isinstance(key, str):\n",
    "            raise KeyError(key)\n",
    "        return self[str(key)]\n",
    "\n",
    "    def __contains__(self, key):\n",
    "        return str(key) in self.data  \n",
    "\n",
    "    def __setitem__(self, key, item):\n",
    "        self.data[str(key)] = item   "
   ]
  },
  {
   "cell_type": "markdown",
   "metadata": {},
   "source": [
    "Immutable Mappings"
   ]
  }
 ],
 "metadata": {
  "kernelspec": {
   "display_name": ".venv",
   "language": "python",
   "name": "python3"
  },
  "language_info": {
   "codemirror_mode": {
    "name": "ipython",
    "version": 3
   },
   "file_extension": ".py",
   "mimetype": "text/x-python",
   "name": "python",
   "nbconvert_exporter": "python",
   "pygments_lexer": "ipython3",
   "version": "3.12.10"
  }
 },
 "nbformat": 4,
 "nbformat_minor": 2
}
